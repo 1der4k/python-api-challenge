{
 "cells": [
  {
   "cell_type": "markdown",
   "metadata": {},
   "source": [
    "# WeatherPy\n",
    "----\n",
    "\n",
    "#### Note\n",
    "* Instructions have been included for each segment. You do not have to follow them exactly, but they are included to help you think through the steps."
   ]
  },
  {
   "cell_type": "code",
   "execution_count": 15,
   "metadata": {
    "scrolled": true
   },
   "outputs": [],
   "source": [
    "# Dependencies and Setup\n",
    "import matplotlib.pyplot as plt\n",
    "import pandas as pd\n",
    "import numpy as np\n",
    "import requests\n",
    "import time\n",
    "from scipy.stats import linregress\n",
    "\n",
    "# Import API key\n",
    "from api_keys import weather_api_key\n",
    "\n",
    "# Incorporated citipy to determine city based on latitude and longitude\n",
    "from citipy import citipy\n",
    "\n",
    "# Output File (CSV)\n",
    "output_data_file = \"output_data/cities.csv\"\n",
    "\n",
    "# Range of latitudes and longitudes\n",
    "lat_range = (-90, 90)\n",
    "lng_range = (-180, 180)"
   ]
  },
  {
   "cell_type": "markdown",
   "metadata": {},
   "source": [
    "## Generate Cities List"
   ]
  },
  {
   "cell_type": "code",
   "execution_count": 24,
   "metadata": {},
   "outputs": [
    {
     "data": {
      "text/plain": [
       "618"
      ]
     },
     "execution_count": 24,
     "metadata": {},
     "output_type": "execute_result"
    }
   ],
   "source": [
    "# List for holding lat_lngs and cities\n",
    "lat_lngs = []\n",
    "cities = []\n",
    "\n",
    "# Create a set of random lat and lng combinations\n",
    "lats = np.random.uniform(lat_range[0], lat_range[1], size=1500)\n",
    "lngs = np.random.uniform(lng_range[0], lng_range[1], size=1500)\n",
    "lat_lngs = zip(lats, lngs)\n",
    "\n",
    "# Identify nearest city for each lat, lng combination\n",
    "for lat_lng in lat_lngs:\n",
    "    city = citipy.nearest_city(lat_lng[0], lat_lng[1]).city_name\n",
    "    \n",
    "    # If the city is unique, then add it to a our cities list\n",
    "    if city not in cities:\n",
    "        cities.append(city)\n",
    "\n",
    "# Print the city count to confirm sufficient count\n",
    "len(cities)"
   ]
  },
  {
   "cell_type": "code",
   "execution_count": 25,
   "metadata": {},
   "outputs": [
    {
     "name": "stdout",
     "output_type": "stream",
     "text": [
      "['torbay', 'new norfolk', 'san patricio', 'narsaq', 'avarua', 'los llanos de aridane', 'chokurdakh', 'port alfred', 'faanui', 'albany', 'hermanus', 'rikitea', 'lata', 'atuona', 'socorro', 'college', 'georgetown', 'camenca', 'ostrovnoy', 'kodiak', 'vaini', 'price', 'darhan', 'tasiilaq', 'jamestown', 'yulara', 'mar del plata', 'huarmey', 'hami', 'dikson', 'san carlos de bariloche', 'vardo', 'mount gambier', 'ushuaia', 'abu samrah', 'punta arenas', 'bredasdorp', 'hobart', 'san antonio', 'thompson', 'busselton', 'barrow', 'castro', 'lolua', 'arraial do cabo', 'oktyabrskiy', 'tiznit', 'itarema', 'dalaba', 'leningradskiy', 'hithadhoo', 'jinji', 'mogadishu', 'provideniya', 'san cristobal', 'saint-philippe', 'lebu', 'wajir', 'dudinka', 'pasni', 'mangai', 'neiafu', 'tanjong sepat', 'sangin', 'upernavik', 'comodoro rivadavia', 'nikolskoye', 'saleilua', 'cururupu', 'ponta do sol', 'tahta', 'lompoc', 'san vicente', 'kudahuvadhoo', 'perelyub', 'am timan', 'longyearbyen', 'matara', 'yellowknife', 'bayevo', 'kieta', 'amderma', 'lorengau', 'eyl', 'kruisfontein', 'levelland', 'illoqqortoormiut', 'srednekolymsk', 'auch', 'cap malheureux', 'paucartambo', 'mataura', 'ribeira grande', 'pierre', 'suez', 'burila mare', 'saint george', 'namibe', 'noceto', 'shimoda', 'port elizabeth', 'qaanaaq', 'vitim', 'grand river south east', 'kalmunai', 'cabo san lucas', 'necochea', 'balykshi', 'disna', 'cap-aux-meules', 'deputatskiy', 'iberia', 'sterling', 'cambrils', 'talnakh', 'ancud', 'port blair', 'te anau', 'geraldton', 'cidreira', 'macamic', 'acajutla', 'attawapiskat', 'lakes entrance', 'pacific grove', 'zeya', 'souillac', 'kununurra', 'bambous virieux', 'nagato', 'san luis', 'balabanovo', 'zhicheng', 'inyonga', 'fukue', 'kropotkin', 'belushya guba', 'naze', 'kapaa', 'hualmay', 'bluff', 'grand gaube', 'morant bay', 'gizo', 'goderich', 'lady frere', 'portage', 'kuche', 'iqaluit', 'roma', 'barentsburg', 'puerto ayora', 'outlook', 'sayyan', 'saldanha', 'marsh harbour', 'taolanaro', 'khatanga', 'hovd', 'guajara-mirim', 'barentu', 'halalo', 'reshetylivka', 'victoria', 'vilyuysk', 'isangel', 'xiaoweizhai', 'karaul', 'belyy', 'ilulissat', 'dubbo', 'sitka', 'erzin', 'saleaula', 'camocim', 'hasaki', 'salihorsk', 'kuytun', 'iralaya', 'bengkulu', 'fuxin', 'longhua', 'tarko-sale', 'sentyabrskiy', 'conceicao da barra', 'avera', 'lagoa', 'berlevag', 'svetlogorsk', 'port-gentil', 'touros', 'kirakira', 'qandala', 'port moresby', 'oulainen', 'utiroa', 'portel', 'teluknaga', 'skanderborg', 'dhidhdhoo', 'aykhal', 'lasa', 'vila do maio', 'harwich', 'anaconda', 'saskylakh', 'smithers', 'carnarvon', 'samusu', 'ryotsu', 'broken hill', 'viligili', 'calvinia', 'nizhneyansk', 'airai', 'marawi', 'ulagan', 'juneau', 'pilar', 'kargasok', 'sangar', 'zabid', 'kaitangata', 'butaritari', 'esperance', 'barbar', 'powell', 'mahebourg', 'mugur-aksy', 'tiksi', 'zhitikara', 'atar', 'labuhan', 'norman wells', 'woodward', 'andenes', 'kimbe', 'puerto escondido', 'tevaitoa', 'bethel', 'kanniyakumari', 'tukrah', 'guerrero negro', 'khuzhir', 'greeley', 'kawana waters', 'lovington', 'mackay', 'port lincoln', 'fazilka', 'opuwo', 'manama', 'tuktoyaktuk', 'castanos', 'umm durman', 'nome', 'wesselsbron', 'halifax', 'mandalgovi', 'namatanai', 'gao', 'baruun-urt', 'jojoima', 'nieuw amsterdam', 'hobyo', 'hilo', 'hay river', 'guelengdeng', 'vao', 'quelimane', 'sao joao da barra', 'dingle', 'burica', 'hirara', 'hasilpur', 'beloha', 'awjilah', 'bursa', 'severo-kurilsk', 'senmonorom', 'saint anthony', 'bud', 'shingu', 'wernigerode', 'wakkanai', 'jujuy', 'bargal', 'bull savanna', 'phek', 'raga', 'kidal', 'pimentel', 'satuk', 'ambon', 'champerico', 'maneadero', 'voh', 'kazalinsk', 'rio grande', 'dargaville', 'mys shmidta', 'alekseyevsk', 'eureka', 'paamiut', 'cape town', 'cherskiy', 'rypefjord', 'santander', 'arlit', 'esil', 'la ronge', 'temaraia', 'havelock', 'altay', 'port hardy', 'kedrovyy', 'ambanja', 'iramuco', 'tura', 'umm kaddadah', 'lake park', 'thinadhoo', 'sinnamary', 'mwanza', 'bukama', 'longview', 'east london', 'campoverde', 'richards bay', 'klaksvik', 'del rio', 'fallon', 'vila velha', 'sao jose da coroa grande', 'scarborough', 'samalaeulu', 'mosquera', 'mount isa', 'natal', 'ulaanbaatar', 'khonuu', 'harper', 'pundaguitan', 'talhar', 'nisia floresta', 'shakawe', 'salalah', 'vaitupu', 'coachella', 'lushunkou', 'codrington', 'sulangan', 'severnyy', 'phalombe', 'makakilo city', 'bodden town', 'pisco', 'prado', 'mamallapuram', 'katsuura', 'fortuna', 'clyde river', 'elko', 'kollo', 'la rioja', 'carballo', 'roald', 'jarjis', 'san pedro', 'urambo', 'zheleznodorozhnyy', 'abu kamal', 'gogrial', 'acari', 'lujan', 'arazede', 'shenjiamen', 'karachi', 'maple creek', 'ojinaga', 'borlange', 'adrar', 'ituango', 'karonga', 'poltavka', 'acarau', 'vanavara', 'sao filipe', 'braganca', 'jijiga', 'proddatur', 'sao gabriel da cachoeira', 'nanortalik', 'tumannyy', 'pangnirtung', 'portree', 'aklavik', 'powassan', 'ust-kamchatsk', 'nueva guinea', 'dioknisi', 'dukat', 'surt', 'chuy', 'bathsheba', 'mlonggo', 'buta', 'ahipara', 'yumen', 'ambulu', 'yirol', 'rawson', 'cayenne', 'zalantun', 'sorland', 'kungurtug', 'lulea', 'takaka', 'ixtapa', 'amahai', 'ranong', 'hambantota', 'husavik', 'irbit', 'moissala', 'colonesti', 'rockland', 'gurupi', 'kamenka', 'murud', 'karratha', 'dmitriyevka', 'lavrentiya', 'peniche', 'kavieng', 'pitsunda', 'khandyga', 'krasnoselkup', 'kindu', 'gobabis', 'letpadan', 'broome', 'fairbanks', 'maubin', 'anloga', 'ijaki', 'marv dasht', 'tiarei', 'male', 'severodvinsk', 'valparaiso', 'fort nelson', 'alyangula', 'creel', 'iglesias', 'chokwe', 'espergaerde', 'prainha', 'cartagena', 'karcsa', 'nam tha', 'bajo baudo', 'litovko', 'langarud', 'addis zemen', 'vanimo', 'bur gabo', 'shagonar', 'boca do acre', 'brae', 'maldonado', 'tuatapere', 'beyneu', 'totness', 'athabasca', 'saint-pierre', 'urgut', 'aksu', 'kangaatsiaq', 'najran', 'russell', 'santa luzia', 'mount pleasant', 'port macquarie', 'lyngseidet', 'morada nova', 'umzimvubu', 'cedar city', 'puerto leguizamo', 'bubaque', 'marsa matruh', 'nuuk', 'valle hermoso', 'tombouctou', 'kampot', 'pampas', 'cartagena del chaira', 'meyungs', 'moree', 'gotsu', 'bandarbeyla', 'aswan', 'nyurba', 'glendive', 'amapa', 'cockburn town', 'gopalpur', 'honiara', 'mabaruma', 'osmena', 'eskasem', 'goirle', 'keti bandar', 'lufilufi', 'kiruna', 'mizdah', 'vygonichi', 'voi', 'axim', 'walvis bay', 'doha', 'luderitz', 'benguela', 'kaman', 'gorontalo', 'novopskov', 'demba', 'qiongshan', 'itoman', 'nantucket', 'bolungarvik', 'yomitan', 'taseyevo', 'faya', 'dzilam gonzalez', 'rab', 'camacha', 'kysyl-syr', 'vuktyl', 'kamenskoye', 'kabanjahe', 'bonthe', 'taoudenni', 'taga', 'mehamn', 'starokozache', 'kaniv', 'san ignacio', 'tottori', 'umm lajj', 'rungata', 'ngaglik', 'meulaboh', 'rafaela', 'vila franca do campo', 'tsaratanana', 'rutland', 'chardara', 'werda', 'pasighat', 'pokhara', 'carlisle', 'coquimbo', 'asau', 'naifaru', 'lanxi', 'wuwei', 'nakskov', 'laguna', 'tsihombe', 'hauterive', 'okmulgee', 'mergui', 'portland', 'sola', 'kavaratti', 'epe', 'veracruz', 'bairiki', 'high level', 'qaqortoq', 'kargopol', 'bonavista', 'warqla', 'novo aripuana', 'qinhuangdao', 'hurup', 'diamantino', 'cascavel', 'apaxtla', 'shebalino', 'deh rawud', 'carauari', 'santa isabel', 'grand centre', 'waiuku', 'olafsvik', 'maltahohe', 'yenagoa', 'onverwacht', 'kumluca', 'haibowan', 'lubango', 'saucillo', 'kolda', 'nemuro', 'kutum', 'vaitape', 'mani', 'ekhabi', 'baykit', 'okhotsk', 'satitoa', 'taltal', 'kloulklubed', 'apatity', 'chara', 'carroll']\n"
     ]
    }
   ],
   "source": [
    "print(cities)"
   ]
  },
  {
   "cell_type": "markdown",
   "metadata": {},
   "source": [
    "### Perform API Calls\n",
    "* Perform a weather check on each city using a series of successive API calls.\n",
    "* Include a print log of each city as it'sbeing processed (with the city number and city name).\n"
   ]
  },
  {
   "cell_type": "code",
   "execution_count": 26,
   "metadata": {
    "scrolled": true
   },
   "outputs": [
    {
     "name": "stdout",
     "output_type": "stream",
     "text": [
      "Performing API request for City #0: torbay\n",
      "Performing API request for City #1: new norfolk\n",
      "Performing API request for City #2: san patricio\n",
      "Performing API request for City #3: narsaq\n",
      "Performing API request for City #4: avarua\n",
      "Performing API request for City #5: los llanos de aridane\n",
      "Performing API request for City #6: chokurdakh\n",
      "Performing API request for City #7: port alfred\n",
      "Performing API request for City #8: faanui\n",
      "Performing API request for City #9: albany\n",
      "Performing API request for City #10: hermanus\n",
      "Performing API request for City #11: rikitea\n",
      "Performing API request for City #12: lata\n",
      "Performing API request for City #13: atuona\n",
      "Performing API request for City #14: socorro\n",
      "Performing API request for City #15: college\n",
      "Performing API request for City #16: georgetown\n",
      "Performing API request for City #17: camenca\n",
      "Performing API request for City #18: ostrovnoy\n",
      "Performing API request for City #19: kodiak\n",
      "Performing API request for City #20: vaini\n",
      "Performing API request for City #21: price\n",
      "Performing API request for City #22: darhan\n",
      "Performing API request for City #23: tasiilaq\n",
      "Performing API request for City #24: jamestown\n",
      "Performing API request for City #25: yulara\n",
      "Performing API request for City #26: mar del plata\n",
      "Performing API request for City #27: huarmey\n",
      "Performing API request for City #28: hami\n",
      "Performing API request for City #29: dikson\n",
      "Performing API request for City #30: san carlos de bariloche\n",
      "Performing API request for City #31: vardo\n",
      "Performing API request for City #32: mount gambier\n",
      "Performing API request for City #33: ushuaia\n",
      "Performing API request for City #34: abu samrah\n",
      "Performing API request for City #35: punta arenas\n",
      "Performing API request for City #36: bredasdorp\n",
      "Performing API request for City #37: hobart\n",
      "Performing API request for City #38: san antonio\n",
      "Performing API request for City #39: thompson\n",
      "Performing API request for City #40: busselton\n",
      "Performing API request for City #41: barrow\n",
      "Performing API request for City #42: castro\n",
      "Performing API request for City #43: lolua\n"
     ]
    },
    {
     "ename": "KeyError",
     "evalue": "'main'",
     "output_type": "error",
     "traceback": [
      "\u001b[1;31m---------------------------------------------------------------------------\u001b[0m",
      "\u001b[1;31mKeyError\u001b[0m                                  Traceback (most recent call last)",
      "\u001b[1;32m<ipython-input-26-f52789ce81d4>\u001b[0m in \u001b[0;36m<module>\u001b[1;34m\u001b[0m\n\u001b[0;32m     17\u001b[0m \u001b[1;33m\u001b[0m\u001b[0m\n\u001b[0;32m     18\u001b[0m     \u001b[0mcity_jsons\u001b[0m \u001b[1;33m=\u001b[0m \u001b[0mrequests\u001b[0m\u001b[1;33m.\u001b[0m\u001b[0mget\u001b[0m\u001b[1;33m(\u001b[0m\u001b[0mquery_url\u001b[0m\u001b[1;33m)\u001b[0m\u001b[1;33m.\u001b[0m\u001b[0mjson\u001b[0m\u001b[1;33m(\u001b[0m\u001b[1;33m)\u001b[0m\u001b[1;33m\u001b[0m\u001b[1;33m\u001b[0m\u001b[0m\n\u001b[1;32m---> 19\u001b[1;33m     \u001b[0mtemps_list\u001b[0m\u001b[1;33m.\u001b[0m\u001b[0mappend\u001b[0m\u001b[1;33m(\u001b[0m\u001b[0mcity_jsons\u001b[0m\u001b[1;33m[\u001b[0m\u001b[1;34m'main'\u001b[0m\u001b[1;33m]\u001b[0m\u001b[1;33m[\u001b[0m\u001b[1;34m'temp'\u001b[0m\u001b[1;33m]\u001b[0m\u001b[1;33m)\u001b[0m\u001b[1;33m\u001b[0m\u001b[1;33m\u001b[0m\u001b[0m\n\u001b[0m\u001b[0;32m     20\u001b[0m     \u001b[0mhumidity_list\u001b[0m\u001b[1;33m.\u001b[0m\u001b[0mappend\u001b[0m\u001b[1;33m(\u001b[0m\u001b[0mcity_jsons\u001b[0m\u001b[1;33m[\u001b[0m\u001b[1;34m'main'\u001b[0m\u001b[1;33m]\u001b[0m\u001b[1;33m[\u001b[0m\u001b[1;34m'humidity'\u001b[0m\u001b[1;33m]\u001b[0m\u001b[1;33m)\u001b[0m\u001b[1;33m\u001b[0m\u001b[1;33m\u001b[0m\u001b[0m\n\u001b[0;32m     21\u001b[0m     \u001b[0mcloudiness_list\u001b[0m\u001b[1;33m.\u001b[0m\u001b[0mappend\u001b[0m\u001b[1;33m(\u001b[0m\u001b[0mcity_jsons\u001b[0m\u001b[1;33m[\u001b[0m\u001b[1;34m'clouds'\u001b[0m\u001b[1;33m]\u001b[0m\u001b[1;33m[\u001b[0m\u001b[1;34m'all'\u001b[0m\u001b[1;33m]\u001b[0m\u001b[1;33m)\u001b[0m\u001b[1;33m\u001b[0m\u001b[1;33m\u001b[0m\u001b[0m\n",
      "\u001b[1;31mKeyError\u001b[0m: 'main'"
     ]
    }
   ],
   "source": [
    "url = \"https://api.openweathermap.org/data/2.5/weather?q=\"\n",
    "key_q = \"&appid=\"\n",
    "units = \"metric\"\n",
    "units_q = \"&units=\"\n",
    "\n",
    "temps_list = []\n",
    "humidity_list = []\n",
    "cloudiness_list = []\n",
    "wind_speed_list = []\n",
    "\n",
    "for city in cities:\n",
    "    \n",
    "    city_no = cities.index(city)\n",
    "    print(f\"Performing API request for City #{city_no}: {city}\")\n",
    "    \n",
    "    query_url = url + city + key_q + weather_api_key + units_q + units\n",
    "    \n",
    "    city_jsons = requests.get(query_url).json()\n",
    "    temps_list.append(city_jsons['main']['temp'])\n",
    "    humidity_list.append(city_jsons['main']['humidity'])\n",
    "    cloudiness_list.append(city_jsons['clouds']['all'])\n",
    "    wind_speed_list.append(city_jsons['wind']['speed'])\n"
   ]
  },
  {
   "cell_type": "code",
   "execution_count": null,
   "metadata": {},
   "outputs": [],
   "source": []
  },
  {
   "cell_type": "markdown",
   "metadata": {},
   "source": [
    "### Convert Raw Data to DataFrame\n",
    "* Export the city data into a .csv.\n",
    "* Display the DataFrame"
   ]
  },
  {
   "cell_type": "code",
   "execution_count": 27,
   "metadata": {},
   "outputs": [
    {
     "name": "stdout",
     "output_type": "stream",
     "text": [
      "{'cod': '404', 'message': 'city not found'}\n"
     ]
    }
   ],
   "source": [
    "print(requests.get(url + \"lolua\" + key_q + weather_api_key).json())"
   ]
  },
  {
   "cell_type": "code",
   "execution_count": null,
   "metadata": {},
   "outputs": [],
   "source": []
  },
  {
   "cell_type": "markdown",
   "metadata": {},
   "source": [
    "## Inspect the data and remove the cities where the humidity > 100%.\n",
    "----\n",
    "Skip this step if there are no cities that have humidity > 100%. "
   ]
  },
  {
   "cell_type": "code",
   "execution_count": null,
   "metadata": {},
   "outputs": [],
   "source": []
  },
  {
   "cell_type": "code",
   "execution_count": null,
   "metadata": {},
   "outputs": [],
   "source": [
    "#  Get the indices of cities that have humidity over 100%.\n"
   ]
  },
  {
   "cell_type": "code",
   "execution_count": null,
   "metadata": {},
   "outputs": [],
   "source": [
    "# Make a new DataFrame equal to the city data to drop all humidity outliers by index.\n",
    "# Passing \"inplace=False\" will make a copy of the city_data DataFrame, which we call \"clean_city_data\".\n"
   ]
  },
  {
   "cell_type": "code",
   "execution_count": null,
   "metadata": {},
   "outputs": [],
   "source": [
    "\n"
   ]
  },
  {
   "cell_type": "markdown",
   "metadata": {},
   "source": [
    "## Plotting the Data\n",
    "* Use proper labeling of the plots using plot titles (including date of analysis) and axes labels.\n",
    "* Save the plotted figures as .pngs."
   ]
  },
  {
   "cell_type": "markdown",
   "metadata": {},
   "source": [
    "## Latitude vs. Temperature Plot"
   ]
  },
  {
   "cell_type": "code",
   "execution_count": null,
   "metadata": {
    "scrolled": true
   },
   "outputs": [],
   "source": []
  },
  {
   "cell_type": "markdown",
   "metadata": {},
   "source": [
    "## Latitude vs. Humidity Plot"
   ]
  },
  {
   "cell_type": "code",
   "execution_count": null,
   "metadata": {},
   "outputs": [],
   "source": []
  },
  {
   "cell_type": "markdown",
   "metadata": {},
   "source": [
    "## Latitude vs. Cloudiness Plot"
   ]
  },
  {
   "cell_type": "code",
   "execution_count": null,
   "metadata": {},
   "outputs": [],
   "source": []
  },
  {
   "cell_type": "markdown",
   "metadata": {},
   "source": [
    "## Latitude vs. Wind Speed Plot"
   ]
  },
  {
   "cell_type": "code",
   "execution_count": null,
   "metadata": {},
   "outputs": [],
   "source": []
  },
  {
   "cell_type": "markdown",
   "metadata": {},
   "source": [
    "## Linear Regression"
   ]
  },
  {
   "cell_type": "code",
   "execution_count": null,
   "metadata": {},
   "outputs": [],
   "source": []
  },
  {
   "cell_type": "markdown",
   "metadata": {},
   "source": [
    "####  Northern Hemisphere - Max Temp vs. Latitude Linear Regression"
   ]
  },
  {
   "cell_type": "code",
   "execution_count": null,
   "metadata": {},
   "outputs": [],
   "source": []
  },
  {
   "cell_type": "markdown",
   "metadata": {},
   "source": [
    "####  Southern Hemisphere - Max Temp vs. Latitude Linear Regression"
   ]
  },
  {
   "cell_type": "code",
   "execution_count": null,
   "metadata": {},
   "outputs": [],
   "source": []
  },
  {
   "cell_type": "markdown",
   "metadata": {},
   "source": [
    "####  Northern Hemisphere - Humidity (%) vs. Latitude Linear Regression"
   ]
  },
  {
   "cell_type": "code",
   "execution_count": null,
   "metadata": {},
   "outputs": [],
   "source": []
  },
  {
   "cell_type": "markdown",
   "metadata": {},
   "source": [
    "####  Southern Hemisphere - Humidity (%) vs. Latitude Linear Regression"
   ]
  },
  {
   "cell_type": "code",
   "execution_count": null,
   "metadata": {},
   "outputs": [],
   "source": []
  },
  {
   "cell_type": "markdown",
   "metadata": {},
   "source": [
    "####  Northern Hemisphere - Cloudiness (%) vs. Latitude Linear Regression"
   ]
  },
  {
   "cell_type": "code",
   "execution_count": null,
   "metadata": {},
   "outputs": [],
   "source": []
  },
  {
   "cell_type": "markdown",
   "metadata": {},
   "source": [
    "####  Southern Hemisphere - Cloudiness (%) vs. Latitude Linear Regression"
   ]
  },
  {
   "cell_type": "code",
   "execution_count": null,
   "metadata": {},
   "outputs": [],
   "source": []
  },
  {
   "cell_type": "markdown",
   "metadata": {},
   "source": [
    "####  Northern Hemisphere - Wind Speed (mph) vs. Latitude Linear Regression"
   ]
  },
  {
   "cell_type": "code",
   "execution_count": null,
   "metadata": {},
   "outputs": [],
   "source": []
  },
  {
   "cell_type": "markdown",
   "metadata": {},
   "source": [
    "####  Southern Hemisphere - Wind Speed (mph) vs. Latitude Linear Regression"
   ]
  },
  {
   "cell_type": "code",
   "execution_count": null,
   "metadata": {},
   "outputs": [],
   "source": []
  },
  {
   "cell_type": "code",
   "execution_count": null,
   "metadata": {},
   "outputs": [],
   "source": []
  }
 ],
 "metadata": {
  "anaconda-cloud": {},
  "kernel_info": {
   "name": "python3"
  },
  "kernelspec": {
   "display_name": "Python 3",
   "language": "python",
   "name": "python3"
  },
  "language_info": {
   "codemirror_mode": {
    "name": "ipython",
    "version": 3
   },
   "file_extension": ".py",
   "mimetype": "text/x-python",
   "name": "python",
   "nbconvert_exporter": "python",
   "pygments_lexer": "ipython3",
   "version": "3.6.10"
  },
  "latex_envs": {
   "LaTeX_envs_menu_present": true,
   "autoclose": false,
   "autocomplete": true,
   "bibliofile": "biblio.bib",
   "cite_by": "apalike",
   "current_citInitial": 1,
   "eqLabelWithNumbers": true,
   "eqNumInitial": 1,
   "hotkeys": {
    "equation": "Ctrl-E",
    "itemize": "Ctrl-I"
   },
   "labels_anchors": false,
   "latex_user_defs": false,
   "report_style_numbering": false,
   "user_envs_cfg": false
  },
  "nteract": {
   "version": "0.12.3"
  }
 },
 "nbformat": 4,
 "nbformat_minor": 2
}
